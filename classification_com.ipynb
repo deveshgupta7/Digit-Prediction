{
 "cells": [
  {
   "cell_type": "code",
   "execution_count": 28,
   "metadata": {},
   "outputs": [
    {
     "name": "stdout",
     "output_type": "stream",
     "text": [
      "Model Score/Accuracy is 0.9090909090909091\n"
     ]
    }
   ],
   "source": [
    "import pandas as pd\n",
    "import matplotlib.pyplot as plt\n",
    "from sklearn import svm\n",
    "from sklearn import metrics\n",
    "import joblib\n",
    "import numpy as np\n",
    "from sklearn.utils import shuffle\n",
    "\n",
    "dataframe = pd.read_csv('csv/dataset.csv')\n",
    "dataframe = dataframe.sample(frac=1).reset_index(drop=True)\n",
    "#print(dataframe)\n",
    "\n",
    "X= dataframe.drop(['label'],axis=1)\n",
    "Y= dataframe[\"label\"]\n",
    "\n",
    "X_train, Y_train = X[0:130],Y[0:130]\n",
    "X_test, Y_test = X[130:], Y[130:]\n",
    "\n",
    "\n",
    "model = svm.SVC(kernel=\"linear\")\n",
    "model.fit(X_train,Y_train)\n",
    "\n",
    "joblib.dump(model,\"model/svm4label_liner\")\n",
    "\n",
    "prediction = model.predict(X_test)\n",
    "print(\"Model Score/Accuracy is\", metrics.accuracy_score(Y_test, prediction))"
   ]
  },
  {
   "cell_type": "code",
   "execution_count": null,
   "metadata": {},
   "outputs": [],
   "source": []
  },
  {
   "cell_type": "code",
   "execution_count": null,
   "metadata": {},
   "outputs": [],
   "source": []
  }
 ],
 "metadata": {
  "kernelspec": {
   "display_name": "Python 3",
   "language": "python",
   "name": "python3"
  },
  "language_info": {
   "codemirror_mode": {
    "name": "ipython",
    "version": 3
   },
   "file_extension": ".py",
   "mimetype": "text/x-python",
   "name": "python",
   "nbconvert_exporter": "python",
   "pygments_lexer": "ipython3",
   "version": "3.7.3"
  }
 },
 "nbformat": 4,
 "nbformat_minor": 2
}
