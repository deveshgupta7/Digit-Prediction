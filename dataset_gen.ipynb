{
 "cells": [
  {
   "cell_type": "code",
   "execution_count": 67,
   "metadata": {},
   "outputs": [
    {
     "name": "stdout",
     "output_type": "stream",
     "text": [
      "User\n"
     ]
    },
    {
     "ename": "TypeError",
     "evalue": "a bytes-like object is required, not 'str'",
     "output_type": "error",
     "traceback": [
      "\u001b[1;31m---------------------------------------------------------------------------\u001b[0m",
      "\u001b[1;31mTypeError\u001b[0m                                 Traceback (most recent call last)",
      "\u001b[1;32m<ipython-input-67-51fb0a70cafa>\u001b[0m in \u001b[0;36m<module>\u001b[1;34m\u001b[0m\n\u001b[0;32m     40\u001b[0m         \u001b[1;32mwith\u001b[0m \u001b[0mopen\u001b[0m\u001b[1;33m(\u001b[0m\u001b[1;34m'csv/dataset.csv'\u001b[0m\u001b[1;33m,\u001b[0m \u001b[1;34m'ab'\u001b[0m\u001b[1;33m)\u001b[0m \u001b[1;32mas\u001b[0m \u001b[0mf\u001b[0m\u001b[1;33m:\u001b[0m\u001b[1;33m\u001b[0m\u001b[1;33m\u001b[0m\u001b[0m\n\u001b[0;32m     41\u001b[0m                 \u001b[0mwriter\u001b[0m \u001b[1;33m=\u001b[0m \u001b[0mcsv\u001b[0m\u001b[1;33m.\u001b[0m\u001b[0mwriter\u001b[0m\u001b[1;33m(\u001b[0m\u001b[0mf\u001b[0m\u001b[1;33m)\u001b[0m\u001b[1;33m\u001b[0m\u001b[1;33m\u001b[0m\u001b[0m\n\u001b[1;32m---> 42\u001b[1;33m                 \u001b[0mwriter\u001b[0m\u001b[1;33m.\u001b[0m\u001b[0mwriterow\u001b[0m\u001b[1;33m(\u001b[0m\u001b[0mdata\u001b[0m\u001b[1;33m)\u001b[0m\u001b[1;33m\u001b[0m\u001b[1;33m\u001b[0m\u001b[0m\n\u001b[0m\u001b[0;32m     43\u001b[0m \u001b[1;33m\u001b[0m\u001b[0m\n\u001b[0;32m     44\u001b[0m         \u001b[1;31m#cv2.imwrite(\"proc_images/0/\"+file_name, roi)\u001b[0m\u001b[1;33m\u001b[0m\u001b[1;33m\u001b[0m\u001b[1;33m\u001b[0m\u001b[0m\n",
      "\u001b[1;31mTypeError\u001b[0m: a bytes-like object is required, not 'str'"
     ]
    }
   ],
   "source": [
    "import cv2,os\n",
    "from sklearn.externals import joblib\n",
    "import numpy as np\n",
    "import csv\n",
    "\n",
    "import glob\n",
    "label = \"5\"\n",
    "#run this script for all labels\n",
    "dirList = glob.glob(\"C:/Users/User/digit_images/\"+label+\"/*.png\")\n",
    "for img_path in dirList:\n",
    "\tfile_name = img_path.split(\"/\")[2]\n",
    "\tprint (file_name)\n",
    "\tim = cv2.imread(img_path)\n",
    "\tim_gray = cv2.cvtColor(im, cv2.COLOR_BGR2GRAY)\n",
    "\tim_gray = cv2.GaussianBlur(im_gray, (15, 15), 0)\n",
    "\troi = cv2.resize(im_gray, (28, 28), interpolation=cv2.INTER_AREA)\n",
    "\n",
    "\t#cv2.imshow(\"window\",roi)\n",
    "\n",
    "\tdata=[]\n",
    "\tdata.append(label)\n",
    "\trows,cols = roi.shape\n",
    "\n",
    "\t# #Add pixel one-by-one into data Array.\n",
    "\tfor i in range(rows):\n",
    "\t    for j in range(cols):\n",
    "\t        k = roi[i,j]\n",
    "\t        if k>100:\n",
    "\t        \tk=1\n",
    "\t        else:\n",
    "\t        \tk=0\t\n",
    "\n",
    "\t        data.append(k)\n",
    "\n",
    "\t# header =[\"label\"]\n",
    "\t# for i in range(0,784):\n",
    "\t# \theader.append(\"pixel\"+str(i))\n",
    "\t# print header\t        \n",
    "\n",
    "\twith open('csv/dataset.csv', 'ab') as f:\n",
    "\t\twriter = csv.writer(f)\n",
    "\t\twriter.writerow(data)\n",
    "\t\n",
    "\t#cv2.imwrite(\"proc_images/0/\"+file_name, roi)\n",
    "\n",
    "\tcv2.waitKey()"
   ]
  },
  {
   "cell_type": "code",
   "execution_count": null,
   "metadata": {},
   "outputs": [],
   "source": []
  },
  {
   "cell_type": "code",
   "execution_count": null,
   "metadata": {},
   "outputs": [],
   "source": []
  }
 ],
 "metadata": {
  "kernelspec": {
   "display_name": "Python 3",
   "language": "python",
   "name": "python3"
  },
  "language_info": {
   "codemirror_mode": {
    "name": "ipython",
    "version": 3
   },
   "file_extension": ".py",
   "mimetype": "text/x-python",
   "name": "python",
   "nbconvert_exporter": "python",
   "pygments_lexer": "ipython3",
   "version": "3.7.3"
  }
 },
 "nbformat": 4,
 "nbformat_minor": 2
}
